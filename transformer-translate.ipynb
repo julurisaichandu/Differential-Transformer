{
 "cells": [
  {
   "cell_type": "code",
   "id": "initial_id",
   "metadata": {
    "collapsed": true,
    "ExecuteTime": {
     "end_time": "2024-11-30T20:15:55.439524Z",
     "start_time": "2024-11-30T20:15:52.360712Z"
    }
   },
   "source": [
    "from datasets import load_dataset\n",
    "from tqdm import tqdm\n",
    "\n",
    "\n",
    "# Load the opus_books dataset\n",
    "dataset = load_dataset(\"Helsinki-NLP/opus-100\", \"de-en\")\n",
    "\n",
    "# Split into training and validation datasets\n",
    "train_data = dataset['train']\n",
    "val_data = dataset['validation']\n",
    "\n",
    "def preprocess_function(examples):\n",
    "    inputs = [ex['de'] for ex in examples['translation']]\n",
    "    targets = [ex['en'] for ex in examples['translation']]\n",
    "    return {'inputs': inputs, 'targets': targets}\n",
    "\n",
    "# Apply preprocessing to train and validation data\n",
    "train_data = train_data.map(preprocess_function, batched=True)\n",
    "val_data = val_data.map(preprocess_function, batched=True)\n",
    "\n",
    "# Take a look at the first few preprocessed examples\n",
    "for i in range(5):\n",
    "    print(f\"Input (German): {train_data[i]['inputs']}\")\n",
    "    print(f\"Target (English): {train_data[i]['targets']}\\n\")\n"
   ],
   "outputs": [
    {
     "name": "stdout",
     "output_type": "stream",
     "text": [
      "Input (German): Deine Habgier wird noch dein Tod sein.\n",
      "Target (English): It's greed that it's gonna be the death of you, 'cause you...\n",
      "\n",
      "Input (German): - Vega.\n",
      "Target (English): Vega.\n",
      "\n",
      "Input (German): Sagen Sie einfach stopp.\n",
      "Target (English): Just say when.\n",
      "\n",
      "Input (German): - Warte.\n",
      "Target (English): - Wait.\n",
      "\n",
      "Input (German): Ich will nicht hier sein.\n",
      "Target (English): I don't wanna be here.\n",
      "\n"
     ]
    }
   ],
   "execution_count": 22
  },
  {
   "metadata": {
    "ExecuteTime": {
     "end_time": "2024-11-30T20:15:57.461110Z",
     "start_time": "2024-11-30T20:15:57.458210Z"
    }
   },
   "cell_type": "code",
   "source": "",
   "id": "f9bf73b4b46ab8b7",
   "outputs": [],
   "execution_count": 22
  },
  {
   "metadata": {
    "ExecuteTime": {
     "end_time": "2024-11-30T20:15:58.741079Z",
     "start_time": "2024-11-30T20:15:58.578887Z"
    }
   },
   "cell_type": "code",
   "source": [
    "import re\n",
    "def clean_text(text):\n",
    "    # Remove special characters and extra spaces, normalize to lowercase\n",
    "    text = text.lower()\n",
    "    text = re.sub(r\"[^a-zA-Z0-9äöüß.,!?\\s]\", \"\", text)  # Removing unwanted characters\n",
    "    text = re.sub(r\"\\s+\", \" \", text).strip()  # Removing extra spaces\n",
    "    return text\n",
    "\n",
    "# Preprocess the dataset\n",
    "def preprocess_function(examples):\n",
    "    inputs = [clean_text(ex['de']) for ex in examples['translation']]\n",
    "    targets = [clean_text(ex['en']) for ex in examples['translation']]\n",
    "    return {'inputs': inputs, 'targets': targets}\n",
    "\n",
    "# Apply preprocessing to train and validation data\n",
    "train_data = train_data.map(preprocess_function, batched=True)\n",
    "val_data = val_data.map(preprocess_function, batched=True)\n",
    "\n",
    "# Take a look at the first few preprocessed examples\n",
    "for i in range(5):\n",
    "    print(f\"Input (German): {train_data[i]['inputs']}\")\n",
    "    print(f\"Target (English): {train_data[i]['targets']}\\n\")\n"
   ],
   "id": "65ec0d42e9f9f6",
   "outputs": [
    {
     "name": "stdout",
     "output_type": "stream",
     "text": [
      "Input (German): deine habgier wird noch dein tod sein.\n",
      "Target (English): its greed that its gonna be the death of you, cause you...\n",
      "\n",
      "Input (German): vega.\n",
      "Target (English): vega.\n",
      "\n",
      "Input (German): sagen sie einfach stopp.\n",
      "Target (English): just say when.\n",
      "\n",
      "Input (German): warte.\n",
      "Target (English): wait.\n",
      "\n",
      "Input (German): ich will nicht hier sein.\n",
      "Target (English): i dont wanna be here.\n",
      "\n"
     ]
    }
   ],
   "execution_count": 23
  },
  {
   "metadata": {
    "ExecuteTime": {
     "end_time": "2024-11-30T20:16:00.008964Z",
     "start_time": "2024-11-30T20:15:59.544573Z"
    }
   },
   "cell_type": "code",
   "source": [
    "from transformers import AutoTokenizer\n",
    "\n",
    "tokenizer = AutoTokenizer.from_pretrained(\"t5-small\")\n",
    "\n",
    "# Tokenize the dataset\n",
    "def tokenize_function(examples):\n",
    "    model_inputs = tokenizer(examples['inputs'], max_length=128, truncation=True, padding=\"max_length\")\n",
    "    labels = tokenizer(examples['targets'], max_length=128, truncation=True, padding=\"max_length\")\n",
    "\n",
    "    # Replace 'labels' with tokenized target sentences\n",
    "    model_inputs['labels'] = labels['input_ids']\n",
    "    return model_inputs\n",
    "\n",
    "# Apply tokenization to train and validation data\n",
    "train_data = train_data.map(tokenize_function, batched=True)\n",
    "val_data = val_data.map(tokenize_function, batched=True)\n"
   ],
   "id": "4c50d70ed066f93",
   "outputs": [],
   "execution_count": 24
  },
  {
   "metadata": {
    "ExecuteTime": {
     "end_time": "2024-11-30T20:16:00.872050Z",
     "start_time": "2024-11-30T20:16:00.863718Z"
    }
   },
   "cell_type": "code",
   "source": [
    "for i in range(2):\n",
    "    print(f\"Tokenized Input IDs (German): {train_data[i]['input_ids']}\")\n",
    "    print(f\"Tokenized Target IDs (English): {train_data[i]['labels']}\\n\")\n"
   ],
   "id": "532fa415b3df5532",
   "outputs": [
    {
     "name": "stdout",
     "output_type": "stream",
     "text": [
      "Tokenized Input IDs (German): [5922, 9809, 122, 972, 551, 763, 20, 77, 12, 26, 1110, 5, 1, 0, 0, 0, 0, 0, 0, 0, 0, 0, 0, 0, 0, 0, 0, 0, 0, 0, 0, 0, 0, 0, 0, 0, 0, 0, 0, 0, 0, 0, 0, 0, 0, 0, 0, 0, 0, 0, 0, 0, 0, 0, 0, 0, 0, 0, 0, 0, 0, 0, 0, 0, 0, 0, 0, 0, 0, 0, 0, 0, 0, 0, 0, 0, 0, 0, 0, 0, 0, 0, 0, 0, 0, 0, 0, 0, 0, 0, 0, 0, 0, 0, 0, 0, 0, 0, 0, 0, 0, 0, 0, 0, 0, 0, 0, 0, 0, 0, 0, 0, 0, 0, 0, 0, 0, 0, 0, 0, 0, 0, 0, 0, 0, 0, 0, 0]\n",
      "Tokenized Target IDs (English): [165, 30337, 24, 165, 3, 13366, 36, 8, 1687, 13, 25, 6, 1137, 25, 233, 1, 0, 0, 0, 0, 0, 0, 0, 0, 0, 0, 0, 0, 0, 0, 0, 0, 0, 0, 0, 0, 0, 0, 0, 0, 0, 0, 0, 0, 0, 0, 0, 0, 0, 0, 0, 0, 0, 0, 0, 0, 0, 0, 0, 0, 0, 0, 0, 0, 0, 0, 0, 0, 0, 0, 0, 0, 0, 0, 0, 0, 0, 0, 0, 0, 0, 0, 0, 0, 0, 0, 0, 0, 0, 0, 0, 0, 0, 0, 0, 0, 0, 0, 0, 0, 0, 0, 0, 0, 0, 0, 0, 0, 0, 0, 0, 0, 0, 0, 0, 0, 0, 0, 0, 0, 0, 0, 0, 0, 0, 0, 0, 0]\n",
      "\n",
      "Tokenized Input IDs (German): [3, 162, 122, 9, 5, 1, 0, 0, 0, 0, 0, 0, 0, 0, 0, 0, 0, 0, 0, 0, 0, 0, 0, 0, 0, 0, 0, 0, 0, 0, 0, 0, 0, 0, 0, 0, 0, 0, 0, 0, 0, 0, 0, 0, 0, 0, 0, 0, 0, 0, 0, 0, 0, 0, 0, 0, 0, 0, 0, 0, 0, 0, 0, 0, 0, 0, 0, 0, 0, 0, 0, 0, 0, 0, 0, 0, 0, 0, 0, 0, 0, 0, 0, 0, 0, 0, 0, 0, 0, 0, 0, 0, 0, 0, 0, 0, 0, 0, 0, 0, 0, 0, 0, 0, 0, 0, 0, 0, 0, 0, 0, 0, 0, 0, 0, 0, 0, 0, 0, 0, 0, 0, 0, 0, 0, 0, 0, 0]\n",
      "Tokenized Target IDs (English): [3, 162, 122, 9, 5, 1, 0, 0, 0, 0, 0, 0, 0, 0, 0, 0, 0, 0, 0, 0, 0, 0, 0, 0, 0, 0, 0, 0, 0, 0, 0, 0, 0, 0, 0, 0, 0, 0, 0, 0, 0, 0, 0, 0, 0, 0, 0, 0, 0, 0, 0, 0, 0, 0, 0, 0, 0, 0, 0, 0, 0, 0, 0, 0, 0, 0, 0, 0, 0, 0, 0, 0, 0, 0, 0, 0, 0, 0, 0, 0, 0, 0, 0, 0, 0, 0, 0, 0, 0, 0, 0, 0, 0, 0, 0, 0, 0, 0, 0, 0, 0, 0, 0, 0, 0, 0, 0, 0, 0, 0, 0, 0, 0, 0, 0, 0, 0, 0, 0, 0, 0, 0, 0, 0, 0, 0, 0, 0]\n",
      "\n"
     ]
    }
   ],
   "execution_count": 25
  },
  {
   "metadata": {
    "ExecuteTime": {
     "end_time": "2024-11-30T20:16:01.785850Z",
     "start_time": "2024-11-30T20:16:01.779503Z"
    }
   },
   "cell_type": "code",
   "source": [
    "import re\n",
    "import torch\n",
    "import torch.nn as nn\n",
    "import torch.optim as optim\n",
    "from torch.utils.data import DataLoader, Dataset\n",
    "from datasets import load_dataset\n",
    "from transformers import AutoTokenizer\n"
   ],
   "id": "5f360f07e3f5e707",
   "outputs": [],
   "execution_count": 26
  },
  {
   "metadata": {
    "ExecuteTime": {
     "end_time": "2024-11-30T20:16:03.269618Z",
     "start_time": "2024-11-30T20:16:03.263799Z"
    }
   },
   "cell_type": "code",
   "source": [
    "# Custom Dataset class for PyTorch\n",
    "class TranslationDataset(Dataset):\n",
    "    def __init__(self, dataset):\n",
    "        self.dataset = dataset\n",
    "\n",
    "    def __len__(self):\n",
    "        return len(self.dataset)\n",
    "\n",
    "    def __getitem__(self, idx):\n",
    "        item = self.dataset[idx]\n",
    "        input_ids = torch.tensor(item['input_ids'], dtype=torch.long)\n",
    "        labels = torch.tensor(item['labels'], dtype=torch.long)\n",
    "        return input_ids, labels"
   ],
   "id": "b8d7c94eb0ce859a",
   "outputs": [],
   "execution_count": 27
  },
  {
   "metadata": {
    "ExecuteTime": {
     "end_time": "2024-11-30T20:16:04.544480Z",
     "start_time": "2024-11-30T20:16:04.537173Z"
    }
   },
   "cell_type": "code",
   "source": [
    "train_dataset = TranslationDataset(train_data)\n",
    "val_dataset = TranslationDataset(val_data)\n",
    "\n",
    "train_dataloader = DataLoader(train_dataset, batch_size=16, shuffle=True)\n",
    "val_dataloader = DataLoader(val_dataset, batch_size=16)\n"
   ],
   "id": "f4c5dffb06abd73e",
   "outputs": [],
   "execution_count": 28
  },
  {
   "metadata": {
    "ExecuteTime": {
     "end_time": "2024-11-30T20:16:06.547218Z",
     "start_time": "2024-11-30T20:16:05.470627Z"
    }
   },
   "cell_type": "code",
   "source": [
    "class TransformerModel(nn.Module):\n",
    "    def __init__(self, vocab_size, d_model=512, nhead=8, num_encoder_layers=6, num_decoder_layers=6, dim_feedforward=2048, max_seq_length=128):\n",
    "        super(TransformerModel, self).__init__()\n",
    "        self.embedding = nn.Embedding(vocab_size, d_model)\n",
    "        self.positional_encoding = nn.Parameter(torch.randn(1, max_seq_length, d_model))\n",
    "        self.transformer = nn.Transformer(d_model=d_model, nhead=nhead, num_encoder_layers=num_encoder_layers, num_decoder_layers=num_decoder_layers, dim_feedforward=dim_feedforward)\n",
    "        self.fc_out = nn.Linear(d_model, vocab_size)\n",
    "\n",
    "    def forward(self, src, tgt):\n",
    "        src = self.embedding(src) + self.positional_encoding[:, :src.size(1), :]\n",
    "        tgt = self.embedding(tgt) + self.positional_encoding[:, :tgt.size(1), :]\n",
    "        output = self.transformer(src.transpose(0, 1), tgt.transpose(0, 1))\n",
    "        output = self.fc_out(output.transpose(0, 1))\n",
    "        return output\n",
    "\n",
    "# Initialize model\n",
    "vocab_size = tokenizer.vocab_size\n",
    "model = TransformerModel(vocab_size)\n",
    "\n",
    "# Define optimizer and loss function\n",
    "optimizer = optim.Adam(model.parameters(), lr=5e-5)\n",
    "criterion = nn.CrossEntropyLoss(ignore_index=tokenizer.pad_token_id)"
   ],
   "id": "6824bca18c626f7e",
   "outputs": [],
   "execution_count": 29
  },
  {
   "metadata": {
    "ExecuteTime": {
     "end_time": "2024-11-30T20:21:03.203024Z",
     "start_time": "2024-11-30T20:18:22.625883Z"
    }
   },
   "cell_type": "code",
   "source": "torch.mps.empty_cache()\n",
   "id": "2813a3608b280f7",
   "outputs": [],
   "execution_count": 31
  },
  {
   "metadata": {},
   "cell_type": "code",
   "source": "",
   "id": "37a8a88a6410407a",
   "outputs": [],
   "execution_count": null
  },
  {
   "metadata": {},
   "cell_type": "code",
   "outputs": [],
   "execution_count": null,
   "source": "",
   "id": "68463d944f299d4b"
  }
 ],
 "metadata": {
  "kernelspec": {
   "display_name": "Python 3",
   "language": "python",
   "name": "python3"
  },
  "language_info": {
   "codemirror_mode": {
    "name": "ipython",
    "version": 2
   },
   "file_extension": ".py",
   "mimetype": "text/x-python",
   "name": "python",
   "nbconvert_exporter": "python",
   "pygments_lexer": "ipython2",
   "version": "2.7.6"
  }
 },
 "nbformat": 4,
 "nbformat_minor": 5
}
